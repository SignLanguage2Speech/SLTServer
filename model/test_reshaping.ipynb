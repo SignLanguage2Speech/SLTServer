{
 "cells": [
  {
   "cell_type": "code",
   "execution_count": 1,
   "metadata": {},
   "outputs": [],
   "source": [
    "import numpy as np"
   ]
  },
  {
   "cell_type": "code",
   "execution_count": 36,
   "metadata": {},
   "outputs": [],
   "source": [
    "# video_array.reshape((num_frames, height, width, channels))\n",
    "\n",
    "class VideoDimensionTransforms:\n",
    "    def __init__(self, \n",
    "                 num_frames=None,height=240,width=320,channels=3,\n",
    "                 num_frames_idx=0, \n",
    "                 height_idx=1, \n",
    "                 width_idx=2, \n",
    "                 channels_idx=3):\n",
    "        self.dim_mapper = {\n",
    "            num_frames_idx: num_frames,\n",
    "            height_idx: height,\n",
    "            width_idx: width,\n",
    "            channels_idx: channels\n",
    "        }\n",
    "        self.num_frames=num_frames\n",
    "        self.num_frames_idx=num_frames_idx\n",
    "        self.height=height\n",
    "        self.height_idx=height_idx\n",
    "        self.width=width\n",
    "        self.width_idx=width_idx\n",
    "        self.channels=channels\n",
    "        self.channels_idx=channels_idx\n",
    "\n",
    "    def get_dim_mapper(self):\n",
    "        return tuple([self.dim_mapper[i] for i in range(len(self.dim_mapper))])\n",
    "    \n",
    "    def get_final_dims(self):\n",
    "        return (self.dim_mapper[self.num_frames_idx], \n",
    "            self.dim_mapper[self.height_idx], \n",
    "            self.dim_mapper[self.width_idx], \n",
    "            self.dim_mapper[self.channels_idx])\n",
    "\n",
    "    def np1D_to_video(self, np_array):\n",
    "        video = np_array.reshape(self.get_final_dims())\n",
    "        return video"
   ]
  },
  {
   "cell_type": "code",
   "execution_count": 39,
   "metadata": {},
   "outputs": [
    {
     "data": {
      "text/plain": [
       "((None, 320, 240, 3), (None, 240, 320, 3))"
      ]
     },
     "execution_count": 39,
     "metadata": {},
     "output_type": "execute_result"
    }
   ],
   "source": [
    "vdt = VideoDimensionTransforms(height_idx=     2,\n",
    "                               num_frames_idx= 0,\n",
    "                               width_idx=      1,\n",
    "                               channels_idx=   3)\n",
    "vdt.get_dim_mapper(), vdt.get_final_dims()"
   ]
  },
  {
   "cell_type": "code",
   "execution_count": 10,
   "metadata": {},
   "outputs": [],
   "source": [
    "f = 6\n",
    "w = 5\n",
    "h = 4\n",
    "c = 3\n",
    "\n",
    "x = np.arange(1,6*5*4*3+1)"
   ]
  },
  {
   "cell_type": "code",
   "execution_count": 11,
   "metadata": {},
   "outputs": [
    {
     "data": {
      "text/plain": [
       "((360,),\n",
       " array([ 1,  2,  3,  4,  5,  6,  7,  8,  9, 10]),\n",
       " '...',\n",
       " array([351, 352, 353, 354, 355, 356, 357, 358, 359, 360]))"
      ]
     },
     "execution_count": 11,
     "metadata": {},
     "output_type": "execute_result"
    }
   ],
   "source": [
    "x.shape, x[:10], \"...\", x[-10:]"
   ]
  },
  {
   "cell_type": "code",
   "execution_count": 26,
   "metadata": {},
   "outputs": [],
   "source": [
    "xp = x.reshape((f,h,w,c))"
   ]
  },
  {
   "cell_type": "code",
   "execution_count": 27,
   "metadata": {},
   "outputs": [
    {
     "data": {
      "text/plain": [
       "(6, 4, 5, 3)"
      ]
     },
     "execution_count": 27,
     "metadata": {},
     "output_type": "execute_result"
    }
   ],
   "source": [
    "xp.shape"
   ]
  },
  {
   "cell_type": "code",
   "execution_count": 28,
   "metadata": {},
   "outputs": [
    {
     "data": {
      "text/plain": [
       "array([[[ 1,  2,  3],\n",
       "        [ 4,  5,  6],\n",
       "        [ 7,  8,  9],\n",
       "        [10, 11, 12],\n",
       "        [13, 14, 15]],\n",
       "\n",
       "       [[16, 17, 18],\n",
       "        [19, 20, 21],\n",
       "        [22, 23, 24],\n",
       "        [25, 26, 27],\n",
       "        [28, 29, 30]],\n",
       "\n",
       "       [[31, 32, 33],\n",
       "        [34, 35, 36],\n",
       "        [37, 38, 39],\n",
       "        [40, 41, 42],\n",
       "        [43, 44, 45]],\n",
       "\n",
       "       [[46, 47, 48],\n",
       "        [49, 50, 51],\n",
       "        [52, 53, 54],\n",
       "        [55, 56, 57],\n",
       "        [58, 59, 60]]])"
      ]
     },
     "execution_count": 28,
     "metadata": {},
     "output_type": "execute_result"
    }
   ],
   "source": [
    "f1 = xp[0]\n",
    "f1"
   ]
  },
  {
   "cell_type": "code",
   "execution_count": null,
   "metadata": {},
   "outputs": [],
   "source": []
  }
 ],
 "metadata": {
  "kernelspec": {
   "display_name": "Python 3",
   "language": "python",
   "name": "python3"
  },
  "language_info": {
   "codemirror_mode": {
    "name": "ipython",
    "version": 3
   },
   "file_extension": ".py",
   "mimetype": "text/x-python",
   "name": "python",
   "nbconvert_exporter": "python",
   "pygments_lexer": "ipython3",
   "version": "3.11.0"
  },
  "orig_nbformat": 4
 },
 "nbformat": 4,
 "nbformat_minor": 2
}
