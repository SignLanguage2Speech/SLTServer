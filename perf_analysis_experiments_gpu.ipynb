{
 "cells": [
  {
   "cell_type": "code",
   "execution_count": 5,
   "metadata": {},
   "outputs": [
    {
     "name": "stderr",
     "output_type": "stream",
     "text": [
      "/Users/nielsraunkjaer/Desktop/Bachelor/SltServer/server-env/lib/python3.10/site-packages/tqdm/auto.py:21: TqdmWarning: IProgress not found. Please update jupyter and ipywidgets. See https://ipywidgets.readthedocs.io/en/stable/user_install.html\n",
      "  from .autonotebook import tqdm as notebook_tqdm\n"
     ]
    }
   ],
   "source": [
    "from model.utils import Logger as LOG\n",
    "LOG.measure_perf = True # ! ENABLE PERFORMANCE MONITORING\n",
    "from model.utils import monitor_perf\n",
    "\n",
    "from model.sign_to_text import SignToText\n",
    "from model.speech_to_text import SpeechToText\n",
    "from deep_translator import GoogleTranslator\n",
    "\n",
    "from media_processing.video import webm_bytes_to_tensor, tensor_to_webm_bytes, load_mp4video_from_file, VideoPipeline\n",
    "from media_processing.video import write_webm_bytes_to_file, read_webm_bytes_from_file\n",
    "from media_processing.audio import webm_to_waveform\n",
    "\n",
    "import matplotlib.pyplot as plt\n",
    "import numpy as np\n",
    "from pandas import DataFrame as df\n",
    "\n",
    "import uuid\n",
    "\n",
    "red = '\\033[91m'\n",
    "ylw = '\\033[93m'\n",
    "grn = '\\033[92m'\n",
    "blk = '\\033[0m'\n",
    "\n",
    "color_map = [\n",
    "    \"#46bdc6\",\n",
    "    \"#4285F4\",\n",
    "    \"#ff6d01\",\n",
    "    # \"#F4B400\",\n",
    "    \"#0F9D58\",\n",
    "]\n",
    "\n",
    "google_languages = {\n",
    "            \"US\": \"en\",\n",
    "            \"UK\": \"en\",\n",
    "            \"DE\": \"de\",\n",
    "            \"DK\": \"da\"}"
   ]
  },
  {
   "cell_type": "code",
   "execution_count": 6,
   "metadata": {},
   "outputs": [],
   "source": [
    "train = [\n",
    "    f'./experiment-data/experiment_vids/train{i}.mp4'\n",
    "    for i in range(100)\n",
    "]\n",
    "load_video = lambda video_idx: load_mp4video_from_file(video_idx)"
   ]
  },
  {
   "attachments": {},
   "cell_type": "markdown",
   "metadata": {},
   "source": [
    "# Downsampling visualizations"
   ]
  },
  {
   "cell_type": "code",
   "execution_count": 7,
   "metadata": {},
   "outputs": [],
   "source": [
    "def show_frame(video_array,idx=0):\n",
    "    plt.imshow(video_array[idx].detach().numpy())\n",
    "    \n",
    "def show_seq(video_array, idx_offset):\n",
    "    w = 35\n",
    "    h = 35\n",
    "    fig = plt.figure(figsize=(w, h))\n",
    "    columns = 10\n",
    "    rows = 1\n",
    "    for i in range(1, columns*rows +1):\n",
    "        fig.add_subplot(rows, columns, i)\n",
    "        show_frame(video_array, idx=i + idx_offset)\n",
    "    plt.show()"
   ]
  },
  {
   "attachments": {},
   "cell_type": "markdown",
   "metadata": {},
   "source": [
    "# Performance tests GPU [Sign2Text]"
   ]
  },
  {
   "cell_type": "code",
   "execution_count": 34,
   "metadata": {},
   "outputs": [],
   "source": [
    "import torch"
   ]
  },
  {
   "cell_type": "code",
   "execution_count": 35,
   "metadata": {},
   "outputs": [
    {
     "name": "stdout",
     "output_type": "stream",
     "text": [
      "Loading state dicts individually\n",
      "Training backbone from scratch\n",
      "Training head network from scratch\n",
      "Freezing up to block 4 in S3D backbone\n",
      "Loading model from pretrained checkpoint!\n"
     ]
    }
   ],
   "source": [
    "slt_model = SignToText(device = 'cuda' if torch.cuda.is_available() else 'cpu')"
   ]
  },
  {
   "cell_type": "code",
   "execution_count": null,
   "metadata": {},
   "outputs": [],
   "source": [
    "assert slt_model.model.device.type[:4] == 'cuda', \"Not on GPU yet!\""
   ]
  },
  {
   "cell_type": "code",
   "execution_count": 10,
   "metadata": {},
   "outputs": [],
   "source": [
    "pipe = VideoPipeline(W_in=260, H_in=210, WH_out=224, k_t=1.)"
   ]
  },
  {
   "cell_type": "code",
   "execution_count": 22,
   "metadata": {},
   "outputs": [],
   "source": [
    "# ! when not performing benchmarks\n",
    "# del slt_model"
   ]
  },
  {
   "cell_type": "code",
   "execution_count": 24,
   "metadata": {},
   "outputs": [],
   "source": [
    "\"\"\" Takes in a list of videos and monitors performance on the full SLT pipeline, using GPU acceleration \"\"\"\n",
    "def test_suite_slt_gpu(videos, repetitions=1, pipe=None, slt_model=None):\n",
    "    assert pipe is not None and slt_model is not None, \"Missing VideoPipeline or Sign2Text model.\"\n",
    "    test_suite_ID = uuid.uuid4()\n",
    "    for rep in range(repetitions):\n",
    "        print(f\"{red}Test Suite [{test_suite_ID}] {ylw}@ {grn}ITER {rep+1}{blk}\")\n",
    "        for video_idx in videos:\n",
    "            repetition_ID = uuid.uuid4()\n",
    "            _video = load_video(video_idx)\n",
    "            # ? get webm bytes, just like we receive via websocket\n",
    "            data = tensor_to_webm_bytes(_video)\n",
    "\n",
    "            # video = webm_bytes_to_tensor(data)\n",
    "            video = monitor_perf(webm_bytes_to_tensor, \n",
    "                                 data, width = 224, height = 224, \n",
    "                                 test_suite_ID=test_suite_ID, \n",
    "                                 repetition_ID=repetition_ID, \n",
    "                                 _input=len(data))\n",
    "            \n",
    "            # video = video.to('cuda') # ! send to GPU\n",
    "            video = monitor_perf(video.to, 'cuda', # ! send to GPU\n",
    "                                test_suite_ID=test_suite_ID, \n",
    "                                 repetition_ID=repetition_ID,\n",
    "                                 variation='Send Video To GPU',\n",
    "                                 _input=video.shape[0])\n",
    "\n",
    "            # video, num_frames = pipe(video, to_file=False, output_length=True)\n",
    "            video, num_frames = monitor_perf(pipe.__call__, \n",
    "                                             video, to_file=False, output_length=True, \n",
    "                                             variation=f\"VideoPipeline, k_t={pipe.k_t}\", \n",
    "                                             _input=video.shape[0], \n",
    "                                             test_suite_ID=test_suite_ID, \n",
    "                                             repetition_ID=repetition_ID)\n",
    "\n",
    "            # y = slt_model(video, num_frames)[0]\n",
    "            y = monitor_perf(slt_model.inference, video, num_frames, \n",
    "                             variation=\"Sign2Text\", \n",
    "                             _input=int(num_frames[0]), \n",
    "                             test_suite_ID=test_suite_ID, \n",
    "                             repetition_ID=repetition_ID)[0]\n",
    "\n",
    "            lang_from, lang_to = \"DE\", \"US\"\n",
    "            # y = GoogleTranslator(source=google_languages[lang_from], target=google_languages[lang_to]).translate(y)\n",
    "            monitor_perf(GoogleTranslator(source=google_languages[lang_from], target=google_languages[lang_to]).translate, y, \n",
    "                         variation=\"Google Translate\", \n",
    "                         test_suite_ID=test_suite_ID, \n",
    "                         repetition_ID=repetition_ID)\n",
    "        LOG.perfmon_step()\n",
    "    print(f\"{red}Test Suite [{test_suite_ID}] {ylw}@ {grn}FINISHED{blk}\")\n"
   ]
  },
  {
   "cell_type": "code",
   "execution_count": null,
   "metadata": {},
   "outputs": [],
   "source": [
    "\"\"\" Reset metrics (stores backup) \"\"\"\n",
    "LOG.reset_perf_metrics()\n",
    "\n",
    "\"\"\" Run performance tests for 3 values of k_t \"\"\"\n",
    "pipe.k_t = 1.\n",
    "test_suite_slt_gpu(train, repetitions=1, slt_model=slt_model, pipe=pipe)\n",
    "pipe.k_t = .5\n",
    "test_suite_slt_gpu(train, repetitions=1, slt_model=slt_model, pipe=pipe)\n",
    "pipe.k_t = .33333\n",
    "test_suite_slt_gpu(train, repetitions=1, slt_model=slt_model, pipe=pipe)\n",
    "\n",
    "\"\"\" Save .csv-file \"\"\"\n",
    "LOG.save_perf_metrics()"
   ]
  },
  {
   "cell_type": "code",
   "execution_count": 23,
   "metadata": {},
   "outputs": [
    {
     "data": {
      "text/html": [
       "<div>\n",
       "<style scoped>\n",
       "    .dataframe tbody tr th:only-of-type {\n",
       "        vertical-align: middle;\n",
       "    }\n",
       "\n",
       "    .dataframe tbody tr th {\n",
       "        vertical-align: top;\n",
       "    }\n",
       "\n",
       "    .dataframe thead th {\n",
       "        text-align: right;\n",
       "    }\n",
       "</style>\n",
       "<table border=\"1\" class=\"dataframe\">\n",
       "  <thead>\n",
       "    <tr style=\"text-align: right;\">\n",
       "      <th></th>\n",
       "      <th>Function Name</th>\n",
       "      <th>Variation</th>\n",
       "      <th>Input Dims</th>\n",
       "      <th>time</th>\n",
       "      <th>perf_counter</th>\n",
       "      <th>process_time</th>\n",
       "      <th>Test Suite ID</th>\n",
       "      <th>Repetition ID</th>\n",
       "    </tr>\n",
       "  </thead>\n",
       "  <tbody>\n",
       "    <tr>\n",
       "      <th>0</th>\n",
       "      <td>webm_bytes_to_tensor</td>\n",
       "      <td>None</td>\n",
       "      <td>151052</td>\n",
       "      <td>0.059362</td>\n",
       "      <td>0.059362</td>\n",
       "      <td>0.018372</td>\n",
       "      <td>eadfa273-2f99-4b8a-b377-5cc29d6cde27</td>\n",
       "      <td>1d5c3ea3-72f1-4a69-bbea-dd226769fb95</td>\n",
       "    </tr>\n",
       "    <tr>\n",
       "      <th>1</th>\n",
       "      <td>__call__</td>\n",
       "      <td>VideoPipeline, k_t=1.0</td>\n",
       "      <td>100</td>\n",
       "      <td>0.028024</td>\n",
       "      <td>0.028025</td>\n",
       "      <td>0.125492</td>\n",
       "      <td>eadfa273-2f99-4b8a-b377-5cc29d6cde27</td>\n",
       "      <td>1d5c3ea3-72f1-4a69-bbea-dd226769fb95</td>\n",
       "    </tr>\n",
       "    <tr>\n",
       "      <th>2</th>\n",
       "      <td>inference</td>\n",
       "      <td>Sign2Text</td>\n",
       "      <td>tensor(100.)</td>\n",
       "      <td>3.151217</td>\n",
       "      <td>3.151194</td>\n",
       "      <td>7.446397</td>\n",
       "      <td>eadfa273-2f99-4b8a-b377-5cc29d6cde27</td>\n",
       "      <td>1d5c3ea3-72f1-4a69-bbea-dd226769fb95</td>\n",
       "    </tr>\n",
       "    <tr>\n",
       "      <th>3</th>\n",
       "      <td>translate</td>\n",
       "      <td>Google Translate</td>\n",
       "      <td>None</td>\n",
       "      <td>0.106313</td>\n",
       "      <td>0.106313</td>\n",
       "      <td>0.012794</td>\n",
       "      <td>eadfa273-2f99-4b8a-b377-5cc29d6cde27</td>\n",
       "      <td>1d5c3ea3-72f1-4a69-bbea-dd226769fb95</td>\n",
       "    </tr>\n",
       "  </tbody>\n",
       "</table>\n",
       "</div>"
      ],
      "text/plain": [
       "          Function Name               Variation    Input Dims      time   \n",
       "0  webm_bytes_to_tensor                    None        151052  0.059362  \\\n",
       "1              __call__  VideoPipeline, k_t=1.0           100  0.028024   \n",
       "2             inference               Sign2Text  tensor(100.)  3.151217   \n",
       "3             translate        Google Translate          None  0.106313   \n",
       "\n",
       "   perf_counter  process_time                         Test Suite ID   \n",
       "0      0.059362      0.018372  eadfa273-2f99-4b8a-b377-5cc29d6cde27  \\\n",
       "1      0.028025      0.125492  eadfa273-2f99-4b8a-b377-5cc29d6cde27   \n",
       "2      3.151194      7.446397  eadfa273-2f99-4b8a-b377-5cc29d6cde27   \n",
       "3      0.106313      0.012794  eadfa273-2f99-4b8a-b377-5cc29d6cde27   \n",
       "\n",
       "                          Repetition ID  \n",
       "0  1d5c3ea3-72f1-4a69-bbea-dd226769fb95  \n",
       "1  1d5c3ea3-72f1-4a69-bbea-dd226769fb95  \n",
       "2  1d5c3ea3-72f1-4a69-bbea-dd226769fb95  \n",
       "3  1d5c3ea3-72f1-4a69-bbea-dd226769fb95  "
      ]
     },
     "execution_count": 23,
     "metadata": {},
     "output_type": "execute_result"
    }
   ],
   "source": [
    "\"\"\" see dataframe as table \"\"\"\n",
    "LOG.perf_metrics"
   ]
  },
  {
   "cell_type": "code",
   "execution_count": null,
   "metadata": {},
   "outputs": [],
   "source": [
    "\"\"\" manually save dataframe \"\"\"\n",
    "LOG.save_perf_metrics()"
   ]
  },
  {
   "cell_type": "code",
   "execution_count": null,
   "metadata": {},
   "outputs": [],
   "source": [
    "\"\"\" reset dataframe - will save current contents to backups folder \"\"\" \n",
    "LOG.reset_perf_metrics()"
   ]
  },
  {
   "attachments": {},
   "cell_type": "markdown",
   "metadata": {},
   "source": [
    "### Delete model from memory:"
   ]
  },
  {
   "cell_type": "code",
   "execution_count": 25,
   "metadata": {},
   "outputs": [],
   "source": [
    "# get the model out of memory :D\n",
    "del slt_model"
   ]
  }
 ],
 "metadata": {
  "kernelspec": {
   "display_name": "Python 3",
   "language": "python",
   "name": "python3"
  },
  "language_info": {
   "codemirror_mode": {
    "name": "ipython",
    "version": 3
   },
   "file_extension": ".py",
   "mimetype": "text/x-python",
   "name": "python",
   "nbconvert_exporter": "python",
   "pygments_lexer": "ipython3",
   "version": "3.10.6"
  },
  "orig_nbformat": 4
 },
 "nbformat": 4,
 "nbformat_minor": 2
}
